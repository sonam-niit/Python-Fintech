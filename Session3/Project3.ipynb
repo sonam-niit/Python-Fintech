{
 "cells": [
  {
   "cell_type": "code",
   "execution_count": 13,
   "id": "0ba8e195",
   "metadata": {},
   "outputs": [
    {
     "name": "stdout",
     "output_type": "stream",
     "text": [
      "No:1, Name: Alex, Email: alex@gmail.com, Phone: 1234567890\n",
      "No:2, Name: Bob, Email: bob@gmail.com, Phone: 0123456789\n",
      "Name:  ALEX\n",
      "email:  ALEX@GMAIL.COM\n",
      "Name:  BOB\n",
      "email:  BOB@GMAIL.COM\n"
     ]
    }
   ],
   "source": [
    "class Student:\n",
    "    def __init__(self,no,name,email,phone):\n",
    "        self.no=no\n",
    "        self.name=name\n",
    "        self.email=email\n",
    "        self.phone=phone\n",
    "        \n",
    "    def __str__(self):\n",
    "        return f'No:{self.no}, Name: {self.name}, Email: {self.email}, Phone: {self.phone}'\n",
    "    \n",
    "    def display(self):\n",
    "        print(\"Name: \", self.name.upper())\n",
    "        print(\"email: \",self.email.upper())\n",
    "\n",
    "s1= Student(1,\"Alex\",\"alex@gmail.com\",\"1234567890\")\n",
    "s2= Student(2,\"Bob\",\"bob@gmail.com\",\"0123456789\")\n",
    "print(s1)\n",
    "print(s2)\n",
    "s1.display()\n",
    "s2.display()\n",
    "        "
   ]
  },
  {
   "cell_type": "code",
   "execution_count": 17,
   "id": "d85abffd",
   "metadata": {},
   "outputs": [
    {
     "name": "stdout",
     "output_type": "stream",
     "text": [
      "No:1, Name: sonam soni\n",
      "Student validity: Invalid Student\n",
      " END of THE Program\n",
      "No:51000, Name: sonam soni\n",
      "Student validity: Valid Studdent\n",
      "Course Added Successfully\n"
     ]
    }
   ],
   "source": [
    "#Inheritance Implementation\n",
    "class Student(object):\n",
    "    def __init__(self,id,name):\n",
    "        self.id=id\n",
    "        self.name=name\n",
    "        \n",
    "    def __str__(self):\n",
    "        return f'No:{self.id}, Name: {self.name}'\n",
    "    \n",
    "    def student_check(self):\n",
    "        if self.id>50000:\n",
    "            return \"Valid Studdent\"\n",
    "        else:\n",
    "            return \"Invalid Student\"\n",
    "        \n",
    "#Child class\n",
    "class FinanceStudent(Student):\n",
    "        def End(self):\n",
    "            print(\" END of THE Program\")\n",
    "#Child class\n",
    "class ITStudent(Student):\n",
    "        def addCourse(self):\n",
    "            print(\"Course Added Successfully\")\n",
    "            \n",
    "s1= FinanceStudent(1,\"sonam soni\");\n",
    "print(s1)\n",
    "print(\"Student validity: \"+s1.student_check())\n",
    "s1.End()\n",
    "s2= ITStudent(51000,\"sonam soni\");\n",
    "print(s2)\n",
    "print(\"Student validity: \"+s2.student_check())\n",
    "s2.addCourse()"
   ]
  },
  {
   "cell_type": "code",
   "execution_count": 19,
   "id": "5a1e9864",
   "metadata": {},
   "outputs": [
    {
     "name": "stdout",
     "output_type": "stream",
     "text": [
      "4\n",
      "30\n",
      "3\n"
     ]
    }
   ],
   "source": [
    "students= [\"Alex\",\"Bob\",\"Catty\",\"David\"] #list\n",
    "message=\"Welcome to the World of Python\" #string\n",
    "empObject={\"empId\":1,\"empName\":\"Sonam Soni\",\"Designation\":\"Trainer\"} #Dictionary\n",
    "\n",
    "print(len(students)) #calculating no of items in list\n",
    "print(len(message)) #count of charaaters\n",
    "print(len(empObject)) #count of keys"
   ]
  },
  {
   "cell_type": "code",
   "execution_count": 24,
   "id": "c5129e97",
   "metadata": {},
   "outputs": [
    {
     "name": "stdout",
     "output_type": "stream",
     "text": [
      "Details: Tata Altroz, Red, 110000\n",
      "Vehicle Max speed is 240\n",
      "Vehicle chnage 6 gear\n",
      "Details: Hond Civics, Black, 170000\n",
      "Vehicle Max speed is 250\n",
      "Vehicle chnage 5 gear\n"
     ]
    }
   ],
   "source": [
    "class Vehicle:\n",
    "    def __init__(self,name,color,price):\n",
    "        self.name=name\n",
    "        self.color=color\n",
    "        self.price=price\n",
    "    def __str__(self):\n",
    "        return f'Details: {self.name}, {self.color}, {self.price}'\n",
    "    def max_speed(self):\n",
    "        print(\"Vehicle Max speed is 150\")\n",
    "    def change_gear(self):\n",
    "        print('Vehicle chnage 5 gear')\n",
    "class Honda(Vehicle):\n",
    "    def max_speed(self):\n",
    "        print(\"Vehicle Max speed is 250\")\n",
    "class Car(Vehicle):\n",
    "    def max_speed(self):\n",
    "        print(\"Vehicle Max speed is 240\")\n",
    "    def change_gear(self):\n",
    "        print('Vehicle chnage 6 gear')\n",
    "        \n",
    "altroz= Car('Tata Altroz','Red',110000)\n",
    "print(altroz)\n",
    "altroz.max_speed() #overide the parent method anc calling its own method\n",
    "altroz.change_gear()\n",
    "civics= Honda(\"Hond Civics\",\"Black\",\"170000\")\n",
    "print(civics)\n",
    "civics.max_speed()\n",
    "civics.change_gear()"
   ]
  },
  {
   "cell_type": "code",
   "execution_count": 27,
   "id": "e9b07005",
   "metadata": {},
   "outputs": [
    {
     "name": "stdout",
     "output_type": "stream",
     "text": [
      "direct access:  Alex   24\n",
      "Age:  24\n"
     ]
    }
   ],
   "source": [
    "#Encaptulation\n",
    "#Name and Age are the Private members\n",
    "class pubclass:\n",
    "    def __init__(self,name,age):\n",
    "        self.name=name\n",
    "        self.age=age\n",
    "    def Age(self):\n",
    "        print(\"Age: \",self.age)\n",
    "\n",
    "#Object\n",
    "obj= pubclass(\"Alex\",\"24\")\n",
    "print(\"direct access: \", obj.name,\" \",obj.age )\n",
    "obj.Age()"
   ]
  },
  {
   "cell_type": "code",
   "execution_count": 32,
   "id": "315313d6",
   "metadata": {},
   "outputs": [
    {
     "name": "stdout",
     "output_type": "stream",
     "text": [
      "Values:  Alex   24\n"
     ]
    }
   ],
   "source": [
    "#Encaptulation\n",
    "#Name and Age are the Private members\n",
    "class pubclass:\n",
    "\n",
    "    def __init__(self,name,age):\n",
    "        self.__name=name\n",
    "        self.__age=age\n",
    "    def Name(self):\n",
    "        return self.__name\n",
    "    def Age(self):\n",
    "        return self.__age\n",
    "\n",
    "#Object\n",
    "obj= pubclass(\"Alex\",\"24\")\n",
    "#print(\"direct access: \", obj.name,\" \",obj.age ) ##this lines will give the error while accesing private members\n",
    "print(\"Values: \", obj.Name(),\" \",obj.Age())"
   ]
  },
  {
   "cell_type": "code",
   "execution_count": 34,
   "id": "d398572f",
   "metadata": {},
   "outputs": [
    {
     "ename": "AttributeError",
     "evalue": "'proclass' object has no attribute '_name'",
     "output_type": "error",
     "traceback": [
      "\u001b[1;31m---------------------------------------------------------------------------\u001b[0m",
      "\u001b[1;31mAttributeError\u001b[0m                            Traceback (most recent call last)",
      "Cell \u001b[1;32mIn[34], line 11\u001b[0m\n\u001b[0;32m      8\u001b[0m         \u001b[38;5;28mprint\u001b[39m(\u001b[38;5;28mself\u001b[39m\u001b[38;5;241m.\u001b[39m_name)\n\u001b[0;32m      9\u001b[0m         \u001b[38;5;28mprint\u001b[39m(\u001b[38;5;28mself\u001b[39m\u001b[38;5;241m.\u001b[39m_age)\n\u001b[1;32m---> 11\u001b[0m objChild\u001b[38;5;241m=\u001b[39m \u001b[43mproclass\u001b[49m\u001b[43m(\u001b[49m\u001b[43m)\u001b[49m\n\u001b[0;32m     12\u001b[0m \u001b[38;5;28mprint\u001b[39m(\u001b[38;5;124m\"\u001b[39m\u001b[38;5;124mName: \u001b[39m\u001b[38;5;124m\"\u001b[39m,obj\u001b[38;5;241m.\u001b[39mname)\n\u001b[0;32m     13\u001b[0m \u001b[38;5;28mprint\u001b[39m(\u001b[38;5;124m\"\u001b[39m\u001b[38;5;124mAge:\u001b[39m\u001b[38;5;124m\"\u001b[39m, obj\u001b[38;5;241m.\u001b[39mage)\n",
      "Cell \u001b[1;32mIn[34], line 8\u001b[0m, in \u001b[0;36mproclass.__init__\u001b[1;34m(self)\u001b[0m\n\u001b[0;32m      7\u001b[0m \u001b[38;5;28;01mdef\u001b[39;00m \u001b[38;5;21m__init__\u001b[39m(\u001b[38;5;28mself\u001b[39m):\n\u001b[1;32m----> 8\u001b[0m     \u001b[38;5;28mprint\u001b[39m(\u001b[38;5;28;43mself\u001b[39;49m\u001b[38;5;241;43m.\u001b[39;49m\u001b[43m_name\u001b[49m)\n\u001b[0;32m      9\u001b[0m     \u001b[38;5;28mprint\u001b[39m(\u001b[38;5;28mself\u001b[39m\u001b[38;5;241m.\u001b[39m_age)\n",
      "\u001b[1;31mAttributeError\u001b[0m: 'proclass' object has no attribute '_name'"
     ]
    }
   ],
   "source": [
    "#Encaptulation\n",
    "#Name and Age are the Protected members\n",
    "#single _ for protected variables, double __ for private variables\n",
    "class details:\n",
    "    _name:\"Jassi\"\n",
    "    _age:56\n",
    "class proclass(details):\n",
    "    def __init__(self):\n",
    "        print(self._name)\n",
    "        print(self._age)\n",
    "\n",
    "objChild= proclass()\n",
    "print(\"Name: \",obj.name)\n",
    "print(\"Age:\", obj.age)"
   ]
  },
  {
   "cell_type": "code",
   "execution_count": 40,
   "id": "4ff9488a",
   "metadata": {},
   "outputs": [
    {
     "name": "stdout",
     "output_type": "stream",
     "text": [
      "mylist:  []\n",
      "Integers List:  [28, 69, 9, 30]\n",
      "Float List  [5.4, 12.89, 9.7, 10.4]\n",
      "string List:  ['test', 'demo', 'tutorial']\n",
      "List:  [1, 'one', 1.2, 'D', (1+2j), True]\n"
     ]
    }
   ],
   "source": [
    "#creating a list in Python\n",
    "#create an Empty List\n",
    "list=[]\n",
    "print(\"mylist: \",list)\n",
    "#create a list of integers\n",
    "intlist=[28,69,9,30]\n",
    "print(\"Integers List: \",intlist)\n",
    "#floatlist\n",
    "floatlist=[5.4,12.89,9.7,10.4]\n",
    "print(\"Float List \",floatlist)\n",
    "strlist=[\"test\",\"demo\",\"tutorial\"]\n",
    "print(\"string List: \",strlist)\n",
    "#create list with diffrent datatypes\n",
    "mylist=[1,\"one\",1.2, 'D', 1+2j, True]\n",
    "print(\"List: \",mylist)"
   ]
  },
  {
   "cell_type": "code",
   "execution_count": 42,
   "id": "bf02ced2",
   "metadata": {},
   "outputs": [
    {
     "name": "stdout",
     "output_type": "stream",
     "text": [
      "NestedList:  [[1, 2, 3], ['one', 'two', 'three'], [True, False], 'XYZ']\n"
     ]
    }
   ],
   "source": [
    "#nested list\n",
    "nestedlist=[[1,2,3],[\"one\",\"two\",\"three\"],[True,False],\"XYZ\"]\n",
    "print(\"NestedList: \",nestedlist)"
   ]
  },
  {
   "cell_type": "code",
   "execution_count": 44,
   "id": "d119f5ed",
   "metadata": {},
   "outputs": [
    {
     "name": "stdout",
     "output_type": "stream",
     "text": [
      "Accessing elements using positive Index\n",
      "7\n",
      "10\n",
      "Accessing elements using negative Index\n",
      "24\n",
      "3\n"
     ]
    }
   ],
   "source": [
    "#accessing elements from list\n",
    "mylist=[3,4,7,9,10,24]\n",
    "print(\"Accessing elements using positive Index\")\n",
    "print(mylist[2])\n",
    "print(mylist[4])\n",
    "print(\"Accessing elements using negative Index\")\n",
    "print(mylist[-1])\n",
    "print(mylist[-6])"
   ]
  },
  {
   "cell_type": "code",
   "execution_count": 48,
   "id": "ce4bf8f3",
   "metadata": {},
   "outputs": [
    {
     "name": "stdout",
     "output_type": "stream",
     "text": [
      "second row and third column:  three\n",
      "forth row, first column:  X\n",
      "third row second column:  False\n"
     ]
    }
   ],
   "source": [
    "print(\"second row and third column: \",nestedlist[1][2])\n",
    "print(\"forth row, first column: \", nestedlist[3][0])\n",
    "print(\"third row second column: \",nestedlist[2][1])"
   ]
  },
  {
   "cell_type": "code",
   "execution_count": 50,
   "id": "86b43f8d",
   "metadata": {},
   "outputs": [
    {
     "name": "stdout",
     "output_type": "stream",
     "text": [
      "1  2  3  \n",
      "one  two  three  \n",
      "True  False  \n",
      "X  Y  Z  \n"
     ]
    }
   ],
   "source": [
    "#iterate nested list using nested loop\n",
    "for r in nestedlist:\n",
    "    for c in r:\n",
    "        print(c,end= \"  \")\n",
    "    print()"
   ]
  },
  {
   "cell_type": "code",
   "execution_count": 52,
   "id": "6281a024",
   "metadata": {},
   "outputs": [
    {
     "name": "stdout",
     "output_type": "stream",
     "text": [
      "[3, 4, 6, 10, 8, 5]\n",
      "After update  [3, 4, 6, 7, 8, 5]\n",
      "After updting  [3, 4, 6, 7, 8, 16]\n"
     ]
    }
   ],
   "source": [
    "#update list\n",
    "my_list=[3,4,6,10,8,5]\n",
    "print(my_list)\n",
    "my_list[3]=7\n",
    "print(\"After update \",my_list)\n",
    "my_list[-1]=16\n",
    "print(\"After updting \",my_list)"
   ]
  },
  {
   "cell_type": "code",
   "execution_count": 60,
   "id": "e0ea0644",
   "metadata": {},
   "outputs": [
    {
     "name": "stdout",
     "output_type": "stream",
     "text": [
      "['a', 'e']\n",
      "['a', 'e', 'i']\n",
      "['a', 'e', 'i', 'o', 'u']\n"
     ]
    }
   ],
   "source": [
    "#insert new element in a list\n",
    "vowels=['a','e']\n",
    "print(vowels)\n",
    "vowels.append('i') #insert a single element\n",
    "print(vowels)\n",
    "vowels.extend(['o','u']) #extending a list\n",
    "print(vowels)"
   ]
  },
  {
   "cell_type": "code",
   "execution_count": 61,
   "id": "782f2eb6",
   "metadata": {},
   "outputs": [
    {
     "name": "stdout",
     "output_type": "stream",
     "text": [
      "[1, 5, 7, 9, 15]\n"
     ]
    }
   ],
   "source": [
    "#insert a element at a perticular index\n",
    "integers=[1,5,9,15]\n",
    "integers.insert(2,7)\n",
    "print(integers)"
   ]
  },
  {
   "cell_type": "code",
   "execution_count": 62,
   "id": "73c62fc7",
   "metadata": {},
   "outputs": [
    {
     "name": "stdout",
     "output_type": "stream",
     "text": [
      "[1, 5, 9, 15]\n"
     ]
    }
   ],
   "source": [
    "#delete and remove items from list\n",
    "del integers[2] #delete a perticular element from a list\n",
    "print(integers)\n",
    "del integers #to delete the entire list\n",
    "#print(integers) #this line will give error as the list deleted"
   ]
  },
  {
   "cell_type": "code",
   "execution_count": 66,
   "id": "96844008",
   "metadata": {},
   "outputs": [
    {
     "name": "stdout",
     "output_type": "stream",
     "text": [
      "[1, 2, 3, 4, 5, 6, 7, 8, 9]\n",
      "[1, 2, 3, 5, 6, 7, 8, 9]\n",
      "9\n",
      "[1, 2, 3, 5, 6, 7, 8]\n",
      "2\n",
      "[1, 3, 5, 6, 7, 8]\n",
      "[]\n"
     ]
    }
   ],
   "source": [
    "my_list=[1,2,3,4,5,6,7,8,9]\n",
    "print(my_list)\n",
    "my_list.remove(4); #this method is not returning any thing\n",
    "print(my_list)\n",
    "print(my_list.pop())#remove last element\n",
    "print(my_list)\n",
    "print(my_list.pop(1))\n",
    "print(my_list)\n",
    "my_list.clear() #make your list empty\n",
    "print(my_list)"
   ]
  },
  {
   "cell_type": "code",
   "execution_count": 67,
   "id": "d6c3373d",
   "metadata": {},
   "outputs": [
    {
     "name": "stdout",
     "output_type": "stream",
     "text": [
      "[1, 2, 3, 4, 5, 6, 7, 8]\n"
     ]
    }
   ],
   "source": [
    "#List operations\n",
    "List1=[1,2,3,4]\n",
    "List2=[5,6,7,8]\n",
    "concatlist=List1+List2\n",
    "print(concatlist)"
   ]
  },
  {
   "cell_type": "code",
   "execution_count": 72,
   "id": "3a10889d",
   "metadata": {},
   "outputs": [
    {
     "name": "stdout",
     "output_type": "stream",
     "text": [
      "[1, 2, 3, 4, 1, 2, 3, 4]\n",
      "True\n",
      "False\n",
      "True\n"
     ]
    }
   ],
   "source": [
    "print(List1*2) #same list repeated twice\n",
    "#check element is available in list or not\n",
    "print(3 in List1)\n",
    "print(6 in List1)\n",
    "print(10 not in List1)"
   ]
  },
  {
   "cell_type": "code",
   "execution_count": 73,
   "id": "79875479",
   "metadata": {},
   "outputs": [
    {
     "name": "stdout",
     "output_type": "stream",
     "text": [
      "1\n",
      "2\n",
      "3\n",
      "4\n"
     ]
    }
   ],
   "source": [
    "#iterate in a list then we can use for loop\n",
    "for x in List1:\n",
    "    print(x)"
   ]
  },
  {
   "cell_type": "code",
   "execution_count": 75,
   "id": "ef1da58c",
   "metadata": {},
   "outputs": [
    {
     "name": "stdout",
     "output_type": "stream",
     "text": [
      "4\n",
      "8\n"
     ]
    }
   ],
   "source": [
    "#finding a length of List\n",
    "print(len(List1))\n",
    "print(len(concatlist))"
   ]
  },
  {
   "cell_type": "code",
   "execution_count": 82,
   "id": "305dcf0d",
   "metadata": {},
   "outputs": [
    {
     "name": "stdout",
     "output_type": "stream",
     "text": [
      "['H', 'E', 'L', 'L', 'O']\n",
      "['L', 'O', ' ', 'W', 'O']\n",
      "['W', 'O', 'R', 'L', 'D']\n",
      "['H', 'E', 'L', 'L', 'O']\n"
     ]
    }
   ],
   "source": [
    "#slice a list\n",
    "mylist=['H','E','L','L','O',' ','W','O','R','L','D']\n",
    "print(mylist[:5]) #from beggining to index 4\n",
    "#Access element from index 3 to 7\n",
    "print(mylist[3:8])\n",
    "#access some element from some index to end\n",
    "print(mylist[6:])\n",
    "#access Hello only\n",
    "print(mylist[:-6])"
   ]
  },
  {
   "cell_type": "code",
   "execution_count": null,
   "id": "4fbadf3b",
   "metadata": {},
   "outputs": [],
   "source": []
  }
 ],
 "metadata": {
  "kernelspec": {
   "display_name": "Python 3 (ipykernel)",
   "language": "python",
   "name": "python3"
  },
  "language_info": {
   "codemirror_mode": {
    "name": "ipython",
    "version": 3
   },
   "file_extension": ".py",
   "mimetype": "text/x-python",
   "name": "python",
   "nbconvert_exporter": "python",
   "pygments_lexer": "ipython3",
   "version": "3.11.1"
  }
 },
 "nbformat": 4,
 "nbformat_minor": 5
}
