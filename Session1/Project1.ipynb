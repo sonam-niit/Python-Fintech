{
 "cells": [
  {
   "cell_type": "code",
   "execution_count": 5,
   "id": "93c7d623",
   "metadata": {},
   "outputs": [
    {
     "name": "stdout",
     "output_type": "stream",
     "text": [
      "Hello World\n"
     ]
    }
   ],
   "source": [
    "#this is my comment\n",
    "print(\"Hello World\")"
   ]
  },
  {
   "cell_type": "code",
   "execution_count": 4,
   "id": "01502882",
   "metadata": {},
   "outputs": [
    {
     "name": "stdout",
     "output_type": "stream",
     "text": [
      "86\n"
     ]
    }
   ],
   "source": [
    "print(10+20+56) #addition of 3 numbers"
   ]
  },
  {
   "cell_type": "code",
   "execution_count": 13,
   "id": "bfbc41cb",
   "metadata": {},
   "outputs": [
    {
     "name": "stdout",
     "output_type": "stream",
     "text": [
      "30\n",
      "10\n"
     ]
    }
   ],
   "source": [
    "#variables\n",
    "a1=10 #variable 1\n",
    "a2=20 #variable 2\n",
    "a3=x+y #variable 3\n",
    "print(z)\n",
    "print(a1) #it is case sensitive"
   ]
  },
  {
   "cell_type": "code",
   "execution_count": 9,
   "id": "df0c6a40",
   "metadata": {},
   "outputs": [
    {
     "name": "stdout",
     "output_type": "stream",
     "text": [
      "My Name is sonam soni\n"
     ]
    }
   ],
   "source": [
    "name=\"sonam soni\"\n",
    "print(\"My Name is \"+name)"
   ]
  },
  {
   "cell_type": "code",
   "execution_count": 20,
   "id": "8e27b996",
   "metadata": {},
   "outputs": [
    {
     "name": "stdout",
     "output_type": "stream",
     "text": [
      "Alex   30   alex@gmail.com\n",
      "values sonam soni   sonam soni   sonam soni\n"
     ]
    }
   ],
   "source": [
    "name,age,email=\"Alex\",30,\"alex@gmail.com\" #multiple variable value assignment\n",
    "print(name,\" \", age, \" \", email)\n",
    "\n",
    "x=y=z = \"sonam soni\" #same value to multiple variables\n",
    "print(\"values \"+x ,\" \", y ,\" \",z)"
   ]
  },
  {
   "cell_type": "code",
   "execution_count": 21,
   "id": "2f5e3832",
   "metadata": {},
   "outputs": [
    {
     "name": "stdout",
     "output_type": "stream",
     "text": [
      "orange   mango   apple\n"
     ]
    }
   ],
   "source": [
    "fruits=[\"orange\",\"mango\",\"apple\"]\n",
    "p,q,r = fruits #assign values from array to a variable\n",
    "print(p, \" \",q, \" \",r)"
   ]
  },
  {
   "cell_type": "code",
   "execution_count": 23,
   "id": "68a5b8b0",
   "metadata": {},
   "outputs": [
    {
     "name": "stdout",
     "output_type": "stream",
     "text": [
      "Data type of a1  <class 'int'>\n",
      "Datatype of x:  <class 'str'>\n",
      "datatype of p:  <class 'str'>\n"
     ]
    }
   ],
   "source": [
    "print(\"Data type of a1 \",type(a1))\n",
    "print(\"Datatype of x: \",type(x))\n",
    "print(\"datatype of p: \",type(p))"
   ]
  },
  {
   "cell_type": "code",
   "execution_count": 24,
   "id": "bc5f4b12",
   "metadata": {},
   "outputs": [
    {
     "name": "stdout",
     "output_type": "stream",
     "text": [
      "Name is Sonam Soni\n",
      "Result is  90.79\n"
     ]
    }
   ],
   "source": [
    "name = str(\"Sonam Soni\")\n",
    "percentage = float(90.79)\n",
    "print(\"Name is \"+name)\n",
    "print(\"Result is \",percentage)"
   ]
  },
  {
   "cell_type": "code",
   "execution_count": 25,
   "id": "5f5ec99b",
   "metadata": {},
   "outputs": [
    {
     "name": "stdout",
     "output_type": "stream",
     "text": [
      "Lorem Ipsum is simply dummy text of the printing and typesetting industry. \n",
      "Lorem Ipsum has been the industry's standard dummy text ever since the 1500s, \n",
      "when an unknown printer took a galley of type and scrambled it to make a type specimen book. \n",
      "It has survived not only five centuries, but also the leap into electronic typesetting,\n",
      "remaining essentially unchanged. \n"
     ]
    }
   ],
   "source": [
    "#multiline string\n",
    "message = \"\"\"Lorem Ipsum is simply dummy text of the printing and typesetting industry. \n",
    "Lorem Ipsum has been the industry's standard dummy text ever since the 1500s, \n",
    "when an unknown printer took a galley of type and scrambled it to make a type specimen book. \n",
    "It has survived not only five centuries, but also the leap into electronic typesetting,\n",
    "remaining essentially unchanged. \"\"\"\n",
    "\n",
    "print(message)\n"
   ]
  },
  {
   "cell_type": "code",
   "execution_count": 30,
   "id": "8e66830e",
   "metadata": {},
   "outputs": [
    {
     "name": "stdout",
     "output_type": "stream",
     "text": [
      "ell\n",
      "Hello \n",
      "World\n"
     ]
    }
   ],
   "source": [
    "msg=\"Hello World\";\n",
    "print(msg[1:4])\n",
    "print(msg[:6]) #start from 0 only\n",
    "print(msg[6:]) # till end"
   ]
  },
  {
   "cell_type": "code",
   "execution_count": 33,
   "id": "34b59be7",
   "metadata": {},
   "outputs": [
    {
     "name": "stdout",
     "output_type": "stream",
     "text": [
      "HELLO WORLD\n",
      "hello world\n",
      "Hello Everyone\n",
      "['Hello', 'World']\n"
     ]
    }
   ],
   "source": [
    "#string functions\n",
    "print(msg.upper())\n",
    "print(msg.lower())\n",
    "print(msg.replace(\"World\",\"Everyone\"))\n",
    "print(msg.split(\" \")) #split by space"
   ]
  },
  {
   "cell_type": "code",
   "execution_count": 39,
   "id": "bac6f921",
   "metadata": {},
   "outputs": [
    {
     "name": "stdout",
     "output_type": "stream",
     "text": [
      "Addition  40\n",
      "Subtraction  20\n",
      "Multiplication:  300\n",
      "Division  3.0\n",
      "Module:  3\n",
      "Exponential  32\n",
      "floor Divison  4\n"
     ]
    }
   ],
   "source": [
    "x,y=10,30\n",
    "print(\"Addition \", (x+y))\n",
    "print(\"Subtraction \",(y-x))\n",
    "print(\"Multiplication: \",(x*y))\n",
    "print(\"Division \",(y/x))\n",
    "print(\"Module: \",(10%7))\n",
    "print(\"Exponential \",(2 ** 5)) # 2^5 (2*2*2*2*)\n",
    "print(\"floor Divison \",(13//3)) "
   ]
  },
  {
   "cell_type": "code",
   "execution_count": 42,
   "id": "becab0d0",
   "metadata": {},
   "outputs": [
    {
     "name": "stdout",
     "output_type": "stream",
     "text": [
      "False\n",
      "True\n",
      "True\n"
     ]
    }
   ],
   "source": [
    "#relational operator, comparisons\n",
    "print(10>80)\n",
    "print(20==(35-15))\n",
    "print(78>=78)"
   ]
  },
  {
   "cell_type": "code",
   "execution_count": 47,
   "id": "3c56c8ae",
   "metadata": {},
   "outputs": [
    {
     "name": "stdout",
     "output_type": "stream",
     "text": [
      "1\n",
      "update x:  3\n",
      "update x:  6\n",
      "update x:  1\n"
     ]
    }
   ],
   "source": [
    "x=1; #assignment operator\n",
    "print(x)\n",
    "x+=2 #x=x+2 (shorthand assignment)\n",
    "print(\"update x: \",x)\n",
    "x*=2 #x=x*2\n",
    "print(\"update x: \",x)\n",
    "x//=4 #x=x//4;\n",
    "print(\"update x: \",x)"
   ]
  },
  {
   "cell_type": "code",
   "execution_count": 50,
   "id": "2d176a0b",
   "metadata": {},
   "outputs": [
    {
     "name": "stdout",
     "output_type": "stream",
     "text": [
      "True\n",
      "False\n",
      "True\n"
     ]
    }
   ],
   "source": [
    "a,b,c= 10,20,30\n",
    "print((c>a) and (c>b)) #if you want to satisfy all conditions then choose and\n",
    "print((b>a) and (b>c))\n",
    "print((b>a) or (b>c)) #if you want to satisfy any one of the conditions then choose or"
   ]
  },
  {
   "cell_type": "code",
   "execution_count": 54,
   "id": "79338d5d",
   "metadata": {},
   "outputs": [
    {
     "name": "stdout",
     "output_type": "stream",
     "text": [
      "False\n",
      "Using ==  True\n",
      "True\n",
      "True\n"
     ]
    }
   ],
   "source": [
    "#identity operator\n",
    "object1= [\"sonam\",\"soni\"]\n",
    "object2= [\"sonam\",\"soni\"]\n",
    "object3= object1\n",
    "print (object1 is object2) #is compares object\n",
    "print (\"Using == \",object1 == object2) #== compares the value inside object\n",
    "print(object1 is object3)\n",
    "print(object1 is not object2)"
   ]
  },
  {
   "cell_type": "code",
   "execution_count": 57,
   "id": "1471d9e7",
   "metadata": {},
   "outputs": [
    {
     "name": "stdout",
     "output_type": "stream",
     "text": [
      "True\n",
      "False\n",
      "True\n"
     ]
    }
   ],
   "source": [
    "#membership operator\n",
    "data=[10,20,30,40,50,60]\n",
    "print (50 in data)\n",
    "print (70 in data)\n",
    "print(90 not in data)"
   ]
  },
  {
   "cell_type": "code",
   "execution_count": 59,
   "id": "46b11706",
   "metadata": {},
   "outputs": [
    {
     "name": "stdout",
     "output_type": "stream",
     "text": [
      "Enter first number13\n",
      "Enter second number24\n",
      "1324  =  13  +  24\n"
     ]
    }
   ],
   "source": [
    "num1= input(\"Enter first number \")\n",
    "num2= input(\"Enter second number \")\n",
    "result = num1+num2\n",
    "print(result, \" = \",num1,\" + \",num2)"
   ]
  },
  {
   "cell_type": "code",
   "execution_count": null,
   "id": "b6ad357a",
   "metadata": {},
   "outputs": [],
   "source": []
  }
 ],
 "metadata": {
  "kernelspec": {
   "display_name": "Python 3 (ipykernel)",
   "language": "python",
   "name": "python3"
  },
  "language_info": {
   "codemirror_mode": {
    "name": "ipython",
    "version": 3
   },
   "file_extension": ".py",
   "mimetype": "text/x-python",
   "name": "python",
   "nbconvert_exporter": "python",
   "pygments_lexer": "ipython3",
   "version": "3.11.1"
  }
 },
 "nbformat": 4,
 "nbformat_minor": 5
}
