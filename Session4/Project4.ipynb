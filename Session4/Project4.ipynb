{
 "cells": [
  {
   "cell_type": "code",
   "execution_count": 4,
   "id": "8a1f8000",
   "metadata": {},
   "outputs": [
    {
     "name": "stdout",
     "output_type": "stream",
     "text": [
      "(0, [1, 2, 3], (4, 5, 6), 7, 0)\n",
      "<class 'tuple'>\n",
      "<class 'tuple'>\n"
     ]
    }
   ],
   "source": [
    "mytuple=(0,[1,2,3],(4,5,6),7,0)\n",
    "print(mytuple)\n",
    "print(type(mytuple))\n",
    "#data=('A') #this is not a tuple\n",
    "#print(type(data)) # it will show a string\n",
    "data=('A',) #add one comma so it will become tuple\n",
    "print(type(data))"
   ]
  },
  {
   "cell_type": "code",
   "execution_count": 8,
   "id": "79ed7736",
   "metadata": {},
   "outputs": [
    {
     "name": "stdout",
     "output_type": "stream",
     "text": [
      "First element:  0\n",
      "Last Element:  0\n",
      "(2, 3, 4)\n",
      "(4, 5, 6)\n"
     ]
    }
   ],
   "source": [
    "#Access elements\n",
    "print(\"First element: \", mytuple[0])\n",
    "print(\"Last Element: \",mytuple[-1])\n",
    "mydata=(2,3,4,5,6,7,8,9)\n",
    "print(mydata[:3])\n",
    "print(mydata[2:5])\n",
    "#do the concatation of tuple and multiplying a tuple"
   ]
  },
  {
   "cell_type": "code",
   "execution_count": 10,
   "id": "760979e7",
   "metadata": {},
   "outputs": [
    {
     "name": "stdout",
     "output_type": "stream",
     "text": [
      "size of list:  136  bytes\n",
      "size of tuple:  112  bytes\n"
     ]
    }
   ],
   "source": [
    "import sys\n",
    "#diffrence memory wise between tuple and list\n",
    "alist=['abc','xyz',123,234,345,456,12,31.23,0.1234]\n",
    "atuple=('abc','xyz',123,234,345,456,12,31.23,0.1234)\n",
    "print(\"size of list: \", sys.getsizeof(alist),' bytes')\n",
    "print(\"size of tuple: \", sys.getsizeof(atuple),' bytes')"
   ]
  },
  {
   "cell_type": "code",
   "execution_count": 11,
   "id": "5b82bd33",
   "metadata": {},
   "outputs": [
    {
     "name": "stdout",
     "output_type": "stream",
     "text": [
      "Before Swap x:  15  & y:  67\n",
      "After Swap x:  67  & y:  15\n"
     ]
    }
   ],
   "source": [
    "#swapping values --> assign y to x and x to y\n",
    "x=15\n",
    "y=67\n",
    "print(\"Before Swap x: \",x,\" & y: \",y)\n",
    "(x,y)= (y,x) #easy to swap using tuples\n",
    "print(\"After Swap x: \",x,\" & y: \",y)"
   ]
  },
  {
   "cell_type": "code",
   "execution_count": 12,
   "id": "78df194d",
   "metadata": {},
   "outputs": [
    {
     "name": "stdout",
     "output_type": "stream",
     "text": [
      "Sum:  24\n",
      "Avg:  8.0\n"
     ]
    }
   ],
   "source": [
    "#function can return only one value but we can return multiple values using tuple\n",
    "def sum_and_avg(x,y,z):\n",
    "    s=x+y+z\n",
    "    a=s/3\n",
    "    return (s,a)\n",
    "\n",
    "(S,A)= sum_and_avg(5,10,9)\n",
    "print(\"Sum: \",S)\n",
    "print(\"Avg: \",A)"
   ]
  },
  {
   "cell_type": "code",
   "execution_count": 14,
   "id": "5b81ca7c",
   "metadata": {},
   "outputs": [
    {
     "name": "stdout",
     "output_type": "stream",
     "text": [
      "Student Id details:  {101, 102, 103, 104, 105}\n",
      "Letters details:  {'ghi', 'abc', 'def'}\n"
     ]
    }
   ],
   "source": [
    "#set \n",
    "student_id={101,102,103,104,105}\n",
    "print(\"Student Id details: \", student_id)\n",
    "letters={\"abc\",\"def\",\"ghi\"}\n",
    "print(\"Letters details: \", letters)"
   ]
  },
  {
   "cell_type": "code",
   "execution_count": 18,
   "id": "2ceef93d",
   "metadata": {},
   "outputs": [
    {
     "name": "stdout",
     "output_type": "stream",
     "text": [
      "<class 'dict'>\n",
      "set()\n",
      "<class 'set'>\n"
     ]
    }
   ],
   "source": [
    "emptyset={} #empty set using {} it will create a dictionary object\n",
    "print(type(emptyset))\n",
    "emptyset1= set()\n",
    "print(emptyset1)\n",
    "print(type(emptyset1))"
   ]
  },
  {
   "cell_type": "code",
   "execution_count": 20,
   "id": "000744ef",
   "metadata": {},
   "outputs": [
    {
     "name": "stdout",
     "output_type": "stream",
     "text": [
      "{2, 4, 5, 6, 7, 9}\n",
      "[2, 4, 5, 6, 7, 9]\n"
     ]
    }
   ],
   "source": [
    "set1={2,4,6,7,2,5,6,9}\n",
    "print(set1)\n",
    "#convert set to list\n",
    "mylist=list(set1)\n",
    "print(mylist)"
   ]
  },
  {
   "cell_type": "code",
   "execution_count": 21,
   "id": "f31c8f2b",
   "metadata": {},
   "outputs": [
    {
     "name": "stdout",
     "output_type": "stream",
     "text": [
      "initial set:  {34, 12, 21, 54}\n",
      "After add:  {34, 36, 12, 21, 54}\n"
     ]
    }
   ],
   "source": [
    "numbers={21,34,54,12}\n",
    "print(\"initial set: \",numbers)\n",
    "numbers.add(36) #add element in set\n",
    "print(\"After add: \",numbers)"
   ]
  },
  {
   "cell_type": "code",
   "execution_count": 24,
   "id": "8f7a1fbc",
   "metadata": {},
   "outputs": [
    {
     "name": "stdout",
     "output_type": "stream",
     "text": [
      "{'windows', 'lenovo', 'mac'}\n",
      "{'suger', 'lenovo', 'HP', 'windows', 'mac', 'lenscart'}\n",
      "{'suger', 'lenovo', 'windows', 'mac', 'lenscart'}\n"
     ]
    }
   ],
   "source": [
    "logos={\"mac\",'windows','lenovo'}\n",
    "other_logos={'lenscart','suger','HP'}\n",
    "print(logos)\n",
    "logos.update(other_logos)# update the python set\n",
    "print(logos)\n",
    "#remove elements use discard method\n",
    "logos.discard('HP')#discard method not returning and value\n",
    "print(logos)\n",
    "#you can use methods like min,max,len,sum,sorted etc"
   ]
  },
  {
   "cell_type": "code",
   "execution_count": 26,
   "id": "ed0883a3",
   "metadata": {},
   "outputs": [
    {
     "name": "stdout",
     "output_type": "stream",
     "text": [
      "{'Nepal': 'Kathmandu', 'Italy': 'Rome', 'England': 'London'}\n",
      "{1: 'One', 2: 'Two', 3: 'Three'}\n"
     ]
    }
   ],
   "source": [
    "#dictionary\n",
    "capital_city={\"Nepal\":\"Kathmandu\",\"Italy\":\"Rome\",\"England\":\"London\"}\n",
    "print(capital_city) ##keys and values both are in String\n",
    "numbers={1:\"One\",2:\"Two\",3:\"Three\"}\n",
    "print(numbers)"
   ]
  },
  {
   "cell_type": "code",
   "execution_count": 28,
   "id": "87c22e06",
   "metadata": {},
   "outputs": [
    {
     "name": "stdout",
     "output_type": "stream",
     "text": [
      "{'Nepal': 'Kathmandu', 'Italy': 'Rome', 'England': 'London', 'Japan': 'Tokyo'}\n",
      "{1: 'I', 2: 'II', 3: 'III'}\n"
     ]
    }
   ],
   "source": [
    "#Add elements in dictinary\n",
    "capital_city[\"Japan\"]=\"Tokyo\"\n",
    "print(capital_city)\n",
    "numbers[1]=\"I\"\n",
    "numbers[2]=\"II\"\n",
    "numbers[3]=\"III\"\n",
    "print(numbers)"
   ]
  },
  {
   "cell_type": "code",
   "execution_count": 31,
   "id": "afc0a873",
   "metadata": {},
   "outputs": [
    {
     "name": "stdout",
     "output_type": "stream",
     "text": [
      "value of key1: I\n",
      "Value of Japan:  Tokyo\n",
      "After Delete:  {1: 'I', 2: 'II'}\n"
     ]
    }
   ],
   "source": [
    "#Access elements\n",
    "print('value of key1: '+numbers[1])\n",
    "print('Value of Japan: ', capital_city['Japan'])\n",
    "#delete\n",
    "del numbers[3]\n",
    "print(\"After Delete: \",numbers)\n",
    "del numbers #will delete the dict object"
   ]
  },
  {
   "cell_type": "code",
   "execution_count": 39,
   "id": "f72db9d1",
   "metadata": {},
   "outputs": [
    {
     "name": "stdout",
     "output_type": "stream",
     "text": [
      "array('i', [1, 2, 3, 4, 5, 6, 7, 8])\n",
      "Access individual element:  4\n",
      "1\n",
      "2\n",
      "3\n",
      "4\n",
      "5\n",
      "6\n",
      "7\n",
      "8\n",
      "First elemnet:  1\n",
      "Last elemnet:  8\n",
      "array('i', [2, 3, 4, 5, 6])\n"
     ]
    }
   ],
   "source": [
    "import array as a\n",
    "myarray= a.array('i',[1,2,3,4,5,6,7,8])\n",
    "print(myarray) #this will print array object\n",
    "print(\"Access individual element: \",myarray[3])\n",
    "for i in myarray:\n",
    "    print(i)\n",
    "print(\"First elemnet: \",myarray[0])\n",
    "print(\"Last elemnet: \",myarray[-1])\n",
    "print(myarray[1:6]) #will return a new array object"
   ]
  },
  {
   "cell_type": "code",
   "execution_count": 42,
   "id": "cb68bf08",
   "metadata": {},
   "outputs": [
    {
     "name": "stdout",
     "output_type": "stream",
     "text": [
      "array('i', [1, 2, 3, 90, 90, 90, 4, 5, 6, 7, 8])\n",
      "array('i', [12, 1, 2, 3, 90, 90, 90, 4, 5, 6, 7, 8])\n"
     ]
    }
   ],
   "source": [
    "#insert we use insert method\n",
    "myarray.insert(3,90)\n",
    "print(myarray)\n",
    "myarray.insert(0,12)\n",
    "print(myarray)"
   ]
  },
  {
   "cell_type": "code",
   "execution_count": 43,
   "id": "5813e7d4",
   "metadata": {},
   "outputs": [
    {
     "name": "stdout",
     "output_type": "stream",
     "text": [
      "array('i', [0, 1, 2, 3, 90, 90, 90, 4, 5, 6, 7, 8])\n"
     ]
    }
   ],
   "source": [
    "#modification is easy\n",
    "myarray[0]=0\n",
    "print(myarray)"
   ]
  },
  {
   "cell_type": "code",
   "execution_count": 47,
   "id": "df9e9a60",
   "metadata": {},
   "outputs": [
    {
     "name": "stdout",
     "output_type": "stream",
     "text": [
      "array('I', [4, 6, 8, 1, 3, 5])\n"
     ]
    }
   ],
   "source": [
    "#concattaion array\n",
    "import array as a\n",
    "array1= a.array('I',[4,6,8])\n",
    "array2=a.array('I',[1,3,5])\n",
    "numbers=array1+array2\n",
    "print(numbers)"
   ]
  },
  {
   "cell_type": "code",
   "execution_count": 48,
   "id": "53a879b2",
   "metadata": {},
   "outputs": [
    {
     "name": "stdout",
     "output_type": "stream",
     "text": [
      "5\n",
      "array('I', [4, 6, 8, 1, 3])\n",
      "8\n",
      "array('I', [4, 6, 1, 3])\n"
     ]
    }
   ],
   "source": [
    "#remove element\n",
    "print(numbers.pop())\n",
    "print(numbers)\n",
    "print(numbers.pop(2))\n",
    "print(numbers)"
   ]
  },
  {
   "cell_type": "code",
   "execution_count": 49,
   "id": "5f788443",
   "metadata": {},
   "outputs": [
    {
     "name": "stdout",
     "output_type": "stream",
     "text": [
      "3\n"
     ]
    }
   ],
   "source": [
    "#check with del operation\n",
    "#check with remove mthod\n",
    "#search one element is available in array or not\n",
    "print(numbers.index(3))"
   ]
  },
  {
   "cell_type": "code",
   "execution_count": null,
   "id": "fa593585",
   "metadata": {},
   "outputs": [],
   "source": [
    "#array iteration using loop\n",
    "#reverse an array using reverse method\n",
    "#check the numbers of count of some value occured in array more tahn one time"
   ]
  }
 ],
 "metadata": {
  "kernelspec": {
   "display_name": "Python 3 (ipykernel)",
   "language": "python",
   "name": "python3"
  },
  "language_info": {
   "codemirror_mode": {
    "name": "ipython",
    "version": 3
   },
   "file_extension": ".py",
   "mimetype": "text/x-python",
   "name": "python",
   "nbconvert_exporter": "python",
   "pygments_lexer": "ipython3",
   "version": "3.11.1"
  }
 },
 "nbformat": 4,
 "nbformat_minor": 5
}
