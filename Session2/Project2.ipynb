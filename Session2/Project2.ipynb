{
 "cells": [
  {
   "cell_type": "code",
   "execution_count": 7,
   "id": "e4836cea",
   "metadata": {},
   "outputs": [
    {
     "name": "stdout",
     "output_type": "stream",
     "text": [
      "Enter first number90\n",
      "Enter another number12\n",
      "90 is greater than  12\n"
     ]
    }
   ],
   "source": [
    "num1= input(\"Enter first number\")\n",
    "num2= input(\"Enter another number\")\n",
    "if num2>num1:\n",
    "    print(num2 , \"is greater than \",num1)#executed when condition is true\n",
    "else:\n",
    "    print(num1 , \"is greater than \",num2)#execiuted when the condition is false"
   ]
  },
  {
   "cell_type": "code",
   "execution_count": 8,
   "id": "55d89c86",
   "metadata": {},
   "outputs": [
    {
     "name": "stdout",
     "output_type": "stream",
     "text": [
      "data exist in given list\n"
     ]
    }
   ],
   "source": [
    "data=[10,20,30,40,50,60,70]\n",
    "x=20\n",
    "if(x in data):\n",
    "    print(\"data exist in given list\")"
   ]
  },
  {
   "cell_type": "code",
   "execution_count": 13,
   "id": "ffbd69c8",
   "metadata": {},
   "outputs": [
    {
     "name": "stdout",
     "output_type": "stream",
     "text": [
      "Both the numbers are positive\n",
      "Any one can be even number\n"
     ]
    }
   ],
   "source": [
    "a=8\n",
    "b=7\n",
    "if a>0 and b>0:\n",
    "    print('Both the numbers are positive')\n",
    "if a%2==0 or b%2==0:\n",
    "    print(\"Any one can be even number\")"
   ]
  },
  {
   "cell_type": "code",
   "execution_count": 15,
   "id": "f8fcaa17",
   "metadata": {},
   "outputs": [
    {
     "name": "stdout",
     "output_type": "stream",
     "text": [
      "a and b are equal\n"
     ]
    }
   ],
   "source": [
    "#else if will help you to add more than one condition\n",
    "a,b=10,10\n",
    "if a>b:\n",
    "    print(\"a is greater than b\");\n",
    "elif a==b:\n",
    "    print(\"a and b are equal\");\n",
    "else:\n",
    "    print(\"a is greater than b\")"
   ]
  },
  {
   "cell_type": "code",
   "execution_count": 16,
   "id": "ce658e5e",
   "metadata": {},
   "outputs": [
    {
     "name": "stdout",
     "output_type": "stream",
     "text": [
      "a is greater than b\n"
     ]
    }
   ],
   "source": [
    "#a condition in a single line (ternary operator)\n",
    "a,b=23,12\n",
    "if a>b : print(\"a is greater than b\")"
   ]
  },
  {
   "cell_type": "code",
   "execution_count": 17,
   "id": "55ea5436",
   "metadata": {},
   "outputs": [
    {
     "name": "stdout",
     "output_type": "stream",
     "text": [
      "a is greater than b\n"
     ]
    }
   ],
   "source": [
    "#both if and else in short hand \n",
    "print(\"a is greater than b\") if a>b else print(\"b is greater than a\")"
   ]
  },
  {
   "cell_type": "code",
   "execution_count": 19,
   "id": "3a72fbe4",
   "metadata": {},
   "outputs": [
    {
     "name": "stdout",
     "output_type": "stream",
     "text": [
      "B largest\n"
     ]
    }
   ],
   "source": [
    "#nested if (if within a if)\n",
    "a,b,c=23,78,12\n",
    "if a>b:\n",
    "    if(a>c):\n",
    "        print(\"A largest\");\n",
    "    else:\n",
    "        print(\"C largest\")\n",
    "else:\n",
    "    if b>c:\n",
    "        print(\"B largest\")\n",
    "    else:\n",
    "        print(\"C largest\")"
   ]
  },
  {
   "cell_type": "code",
   "execution_count": 20,
   "id": "8c2e302a",
   "metadata": {},
   "outputs": [
    {
     "name": "stdout",
     "output_type": "stream",
     "text": [
      "end of the program\n"
     ]
    }
   ],
   "source": [
    "#pass statement\n",
    "#if can not be empty means statement required, you have some statement to write then you can pass it\n",
    "if(a>b):\n",
    "    pass\n",
    "print(\"end of the program\")\n",
    "    "
   ]
  },
  {
   "cell_type": "code",
   "execution_count": 23,
   "id": "94ee79e1",
   "metadata": {},
   "outputs": [
    {
     "name": "stdout",
     "output_type": "stream",
     "text": [
      "1\n",
      "2\n",
      "3\n",
      "4\n",
      "5\n",
      "6\n",
      "7\n",
      "8\n",
      "9\n",
      "10\n"
     ]
    }
   ],
   "source": [
    "#iterative process(repeatative task using loops)\n",
    "i=1\n",
    "while i<=10:\n",
    "    print(i)\n",
    "    i+=1 #if you will not increment, \n",
    "    #everytime the value of i=1 and 1<=10 is true because of that it will become infinite loop"
   ]
  },
  {
   "cell_type": "code",
   "execution_count": 25,
   "id": "67686540",
   "metadata": {},
   "outputs": [
    {
     "name": "stdout",
     "output_type": "stream",
     "text": [
      "5 X  1  =  5\n",
      "5 X  2  =  10\n",
      "5 X  3  =  15\n",
      "5 X  4  =  20\n",
      "5 X  5  =  25\n",
      "5 X  6  =  30\n",
      "5 X  7  =  35\n",
      "5 X  8  =  40\n",
      "5 X  9  =  45\n",
      "5 X  10  =  50\n"
     ]
    }
   ],
   "source": [
    "i=1\n",
    "while i<=10:\n",
    "    print(\"5 X \",i,\" = \", i*5)\n",
    "    i+=1"
   ]
  },
  {
   "cell_type": "code",
   "execution_count": 26,
   "id": "c9e65910",
   "metadata": {},
   "outputs": [
    {
     "name": "stdout",
     "output_type": "stream",
     "text": [
      "1\n",
      "2\n",
      "3\n"
     ]
    }
   ],
   "source": [
    "i=1\n",
    "while i<=10:\n",
    "    print(i)\n",
    "    if i==3:\n",
    "        break; #used to break loop as per the condition\n",
    "    i+=1"
   ]
  },
  {
   "cell_type": "code",
   "execution_count": 30,
   "id": "a2cc8773",
   "metadata": {},
   "outputs": [
    {
     "name": "stdout",
     "output_type": "stream",
     "text": [
      "1\n",
      "2\n",
      "4\n",
      "5\n",
      "7\n",
      "8\n",
      "10\n"
     ]
    }
   ],
   "source": [
    "i=0\n",
    "while i<=10:\n",
    "    i+=1\n",
    "    if (i%3==0):\n",
    "        continue #skip that perticular iteration\n",
    "    if (i>10):\n",
    "        break\n",
    "    print(i)\n",
    "    "
   ]
  },
  {
   "cell_type": "code",
   "execution_count": 31,
   "id": "a6957ac0",
   "metadata": {},
   "outputs": [
    {
     "name": "stdout",
     "output_type": "stream",
     "text": [
      "1\n",
      "2\n",
      "3\n",
      "4\n",
      "5\n",
      "loop competed now value of i  6\n"
     ]
    }
   ],
   "source": [
    "i=1;\n",
    "while i<=5:\n",
    "    print(i)\n",
    "    i+=1\n",
    "else:\n",
    "    print(\"loop competed now value of i \",i)"
   ]
  },
  {
   "cell_type": "code",
   "execution_count": 33,
   "id": "17b01fb9",
   "metadata": {},
   "outputs": [
    {
     "name": "stdout",
     "output_type": "stream",
     "text": [
      "10\n",
      "20\n",
      "30\n",
      "40\n",
      "50\n",
      "60\n",
      "70\n"
     ]
    }
   ],
   "source": [
    "#for loop is basically used to iterate over some sequence (array, list, tuple, dictionary)\n",
    "\n",
    "numbers=[10,20,30,40,50,60,70]\n",
    "for x in numbers:\n",
    "    print(x)"
   ]
  },
  {
   "cell_type": "code",
   "execution_count": 34,
   "id": "64475357",
   "metadata": {},
   "outputs": [
    {
     "name": "stdout",
     "output_type": "stream",
     "text": [
      "G\n",
      "o\n",
      "o\n",
      "d\n",
      " \n",
      "M\n",
      "o\n",
      "r\n",
      "n\n",
      "i\n",
      "n\n",
      "g\n"
     ]
    }
   ],
   "source": [
    "greeting=\"Good Morning\"\n",
    "for s in greeting:\n",
    "    print(s)"
   ]
  },
  {
   "cell_type": "code",
   "execution_count": 37,
   "id": "ee05df5e",
   "metadata": {},
   "outputs": [
    {
     "name": "stdout",
     "output_type": "stream",
     "text": [
      "Welcome to the workd of Python function\n",
      "Welcome to the workd of Python function\n"
     ]
    }
   ],
   "source": [
    "#functions (reusable content)\n",
    "def welcome():\n",
    "    print(\"Welcome to the workd of Python function\")\n",
    "#calling a function\n",
    "welcome()\n",
    "welcome()"
   ]
  },
  {
   "cell_type": "code",
   "execution_count": 40,
   "id": "b78b7c86",
   "metadata": {},
   "outputs": [
    {
     "name": "stdout",
     "output_type": "stream",
     "text": [
      "Welcome sonam soni\n",
      "Welcome Aditya Panchal\n"
     ]
    }
   ],
   "source": [
    "#parameterized function which is accepting 2 parameters- fname and lname\n",
    "def fullname(fname,lname):\n",
    "    print(\"Welcome \"+fname+\" \"+lname)\n",
    "fullname(\"sonam\",\"soni\")\n",
    "fullname(\"Aditya\",\"Panchal\") #passed values inside a function called an arguments"
   ]
  },
  {
   "cell_type": "code",
   "execution_count": 42,
   "id": "0d279cda",
   "metadata": {},
   "outputs": [
    {
     "name": "stdout",
     "output_type": "stream",
     "text": [
      "Addition  57\n",
      "Addition:  43\n"
     ]
    }
   ],
   "source": [
    "#function returning a value\n",
    "def add(num1,num2):\n",
    "    return num1+num2\n",
    "\n",
    "result=add(23,34)\n",
    "print(\"Addition \",result)\n",
    "print(\"Addition: \", add(16,27)) #calling function from print function directly"
   ]
  },
  {
   "cell_type": "code",
   "execution_count": 53,
   "id": "179da048",
   "metadata": {},
   "outputs": [
    {
     "name": "stdout",
     "output_type": "stream",
     "text": [
      "1 red tupperware\n",
      "1  Water Bottle Opened\n",
      "1  Water Bottle closed\n",
      "2 blue trueware\n",
      "2  Water Bottle Opened\n",
      "2  Water Bottle closed\n"
     ]
    }
   ],
   "source": [
    "#class\n",
    "class WaterBottle:\n",
    "    #initialization method\n",
    "    def __init__(self,no,brand,color):\n",
    "        self.no=no\n",
    "        self.brand=brand\n",
    "        self.color=color\n",
    "    #string method\n",
    "    def __str__(self):\n",
    "        return str(self.no)+\" \"+self.color+\" \"+self.brand\n",
    "    def open(self):\n",
    "        #print(self.brand,\" \",self.color)\n",
    "        print(self.no,\" Water Bottle Opened\")\n",
    "    def close(self):\n",
    "        print(self.no, \" Water Bottle closed\")\n",
    "        \n",
    "#Object\n",
    "b1= WaterBottle(1,\"tupperware\",\"red\")\n",
    "print(b1) # print the object it will call its string method\n",
    "b1.open() #call the method it will pass the same object in self\n",
    "b1.close()\n",
    "b2=WaterBottle(2,\"trueware\",\"blue\")\n",
    "print(b2)\n",
    "b2.open()\n",
    "b2.close()"
   ]
  },
  {
   "cell_type": "code",
   "execution_count": 56,
   "id": "67270eb2",
   "metadata": {},
   "outputs": [
    {
     "name": "stdout",
     "output_type": "stream",
     "text": [
      "Account Holder No is SBI0010101 and the available balance is 6000\n",
      "Account Holder No is SBI1020203 and the available balance is 8000\n",
      "Available balance:  9000\n",
      "Not enough balance available\n",
      "amount withdrawed\n",
      "Available balance  5000\n"
     ]
    }
   ],
   "source": [
    "class Account:\n",
    "    def __init__(self,accountno,balance):\n",
    "        self.accountno=accountno\n",
    "        self.balance=balance\n",
    "    def __str__(self):\n",
    "        return f'Account Holder No is {self.accountno} and the available balance is {self.balance}'\n",
    "    def diposit(self,amount):\n",
    "        self.balance+=amount\n",
    "        print(\"Available balance: \",self.balance)\n",
    "    def withdraw(self,amount):\n",
    "        if amount>self.balance:\n",
    "            print(\"Not enough balance available\")\n",
    "        else:\n",
    "            print(\"amount withdrawed\")\n",
    "            self.balance-=amount\n",
    "            print(\"Available balance \",self.balance)\n",
    "    \n",
    "ah1=Account(\"SBI0010101\",6000)\n",
    "ah2=Account(\"SBI1020203\",8000)\n",
    "print(ah1)\n",
    "print(ah2)\n",
    "ah1.diposit(3000);\n",
    "ah2.withdraw(10000);\n",
    "ah1.withdraw(4000);"
   ]
  },
  {
   "cell_type": "code",
   "execution_count": null,
   "id": "d0ab9bfd",
   "metadata": {},
   "outputs": [],
   "source": []
  }
 ],
 "metadata": {
  "kernelspec": {
   "display_name": "Python 3 (ipykernel)",
   "language": "python",
   "name": "python3"
  },
  "language_info": {
   "codemirror_mode": {
    "name": "ipython",
    "version": 3
   },
   "file_extension": ".py",
   "mimetype": "text/x-python",
   "name": "python",
   "nbconvert_exporter": "python",
   "pygments_lexer": "ipython3",
   "version": "3.11.1"
  }
 },
 "nbformat": 4,
 "nbformat_minor": 5
}
